{
 "cells": [
  {
   "cell_type": "markdown",
   "metadata": {},
   "source": [
    "#### 1. How do we model a many-to-many relationship between two database tables?"
   ]
  },
  {
   "cell_type": "markdown",
   "metadata": {},
   "source": [
    "##### Ans: We add a table with two foreign keys"
   ]
  },
  {
   "cell_type": "markdown",
   "metadata": {},
   "source": [
    "#### 2. In Python, what is a database \"cursor\" most like?"
   ]
  },
  {
   "cell_type": "markdown",
   "metadata": {},
   "source": [
    "##### Ans: A file handle"
   ]
  },
  {
   "cell_type": "markdown",
   "metadata": {},
   "source": [
    "#### 3. What method do you call in an SQLIte cursor object in Python to run an SQL command?"
   ]
  },
  {
   "cell_type": "markdown",
   "metadata": {},
   "source": [
    "##### Ans: execute()"
   ]
  },
  {
   "cell_type": "markdown",
   "metadata": {},
   "source": [
    "#### 4. In the following SQL,"
   ]
  },
  {
   "cell_type": "raw",
   "metadata": {},
   "source": [
    "cur.execute('SELECT count FROM Counts WHERE org = ? ', (org, ))"
   ]
  },
  {
   "cell_type": "markdown",
   "metadata": {},
   "source": [
    "##### Ans: It is a placeholder for the contents of the \"org\" variable"
   ]
  },
  {
   "cell_type": "markdown",
   "metadata": {},
   "source": [
    "#### 5. In the following Python code sequence (assuming cur is a SQLite cursor object),"
   ]
  },
  {
   "cell_type": "raw",
   "metadata": {},
   "source": [
    "cur.execute('SELECT count FROM Counts WHERE org = ? ', (org, ))\n",
    "row = cur.fetchone()"
   ]
  },
  {
   "cell_type": "markdown",
   "metadata": {},
   "source": [
    "##### Ans: None"
   ]
  },
  {
   "cell_type": "markdown",
   "metadata": {},
   "source": [
    "#### 6. What does the LIMIT clause in the following SQL accomplish?"
   ]
  },
  {
   "cell_type": "raw",
   "metadata": {},
   "source": [
    "SELECT org, count FROM Counts \n",
    "   ORDER BY count DESC LIMIT 10"
   ]
  },
  {
   "cell_type": "markdown",
   "metadata": {},
   "source": [
    "##### Ans: It only retrieves the first 10 rows from the table"
   ]
  },
  {
   "cell_type": "markdown",
   "metadata": {},
   "source": [
    "#### 7. What does the executescript() method in the Python SQLite cursor object do that the normal execute() method does not do?"
   ]
  },
  {
   "cell_type": "markdown",
   "metadata": {},
   "source": [
    "##### Ans: It allows multiple SQL statements separated by semicolons"
   ]
  },
  {
   "cell_type": "markdown",
   "metadata": {},
   "source": [
    "#### 8. What is the purpose of \"OR IGNORE\" in the following SQL:"
   ]
  },
  {
   "cell_type": "raw",
   "metadata": {},
   "source": [
    "INSERT OR IGNORE INTO Course (title) VALUES ( ? )"
   ]
  },
  {
   "cell_type": "markdown",
   "metadata": {},
   "source": [
    "##### Ans: It makes sure that if a particular title is already in the table, there are no duplicate rows inserted"
   ]
  },
  {
   "cell_type": "markdown",
   "metadata": {},
   "source": [
    "#### 9. For the following Python code to work, what must be added to the title column in the CREATE TABLE statement for the Course table:"
   ]
  },
  {
   "cell_type": "raw",
   "metadata": {},
   "source": [
    "cur.execute('''INSERT OR IGNORE INTO Course (title)\n",
    "    VALUES ( ? )''', ( title, ) )\n",
    "cur.execute('SELECT id FROM Course WHERE title = ? ', \n",
    "    (title, ))\n",
    "course_id = cur.fetchone()[0]"
   ]
  },
  {
   "cell_type": "markdown",
   "metadata": {},
   "source": [
    "##### Ans: A UNIQUE constraint"
   ]
  }
 ],
 "metadata": {
  "kernelspec": {
   "display_name": "Python 3",
   "language": "python",
   "name": "python3"
  },
  "language_info": {
   "codemirror_mode": {
    "name": "ipython",
    "version": 3
   },
   "file_extension": ".py",
   "mimetype": "text/x-python",
   "name": "python",
   "nbconvert_exporter": "python",
   "pygments_lexer": "ipython3",
   "version": "3.6.4"
  }
 },
 "nbformat": 4,
 "nbformat_minor": 2
}
