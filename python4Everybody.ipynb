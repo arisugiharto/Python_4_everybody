{
 "cells": [
  {
   "cell_type": "code",
   "execution_count": 41,
   "metadata": {},
   "outputs": [
    {
     "name": "stdout",
     "output_type": "stream",
     "text": [
      "Enter Hours:45\n",
      "Enter Rate: 10.5\n",
      "498.75\n"
     ]
    },
    {
     "data": {
      "text/plain": [
       "42.37"
      ]
     },
     "execution_count": 41,
     "metadata": {},
     "output_type": "execute_result"
    }
   ],
   "source": [
    "##Ex_4_6\n",
    "\n",
    "def computepay(h, r):\n",
    "    hrs = input(\"Enter Hours:\")\n",
    "    ho = float(hrs)\n",
    "    rate = input(\"Enter Rate: \")\n",
    "    ro = float(rate)\n",
    "    ot = ro*1.5\n",
    "    if ho<40:\n",
    "        print(ho*ro)\n",
    "    elif ho>40:\n",
    "        print(((ho-40)*ot)+(40*ro))\n",
    "    return 42.37\n",
    "\n",
    "computepay(10, 20)\n",
    "#print(\"Pay\", p)"
   ]
  },
  {
   "cell_type": "code",
   "execution_count": null,
   "metadata": {},
   "outputs": [],
   "source": [
    "4.6 Write a program to prompt the user for hours and rate per hour using input to compute gross pay. \n",
    "Pay should be the normal rate for hours up to 40 and time-and-a-half for the hourly rate for all hours \n",
    "worked above 40 hours. \n",
    "Put the logic to do the computation of pay in a function called computepay() and use the function to \n",
    "do the computation. The function should return a value. Use 45 hours and a rate of 10.50 per hour \n",
    "to test the program (the pay should be 498.75). You should use input to read a string and float() \n",
    "to convert the string to a number. Do not worry about error checking the user input unless you want to - \n",
    "you can assume the user types numbers properly. \n",
    "Do not name your variable sum or use the sum() function."
   ]
  },
  {
   "cell_type": "code",
   "execution_count": 50,
   "metadata": {},
   "outputs": [
    {
     "name": "stdout",
     "output_type": "stream",
     "text": [
      "Enter Hours:45\n",
      "Enter Rate: 10.5\n",
      "Pay 498.75\n"
     ]
    }
   ],
   "source": [
    "def computepay(h, r):\n",
    "    if h>40:\n",
    "        p = 1.5 * r * (h - 40) + (40 *r)\n",
    "    else :\n",
    "        p = h*r\n",
    "    \n",
    "    return p\n",
    "\n",
    "hrs = input(\"Enter Hours:\")\n",
    "h = float(hrs)\n",
    "rate = input(\"Enter Rate: \")\n",
    ",r = float(rate)\n",
    "\n",
    "p = computepay(h,r)\n",
    "\n",
    "print(\"Pay\", p)"
   ]
  },
  {
   "cell_type": "code",
   "execution_count": 49,
   "metadata": {},
   "outputs": [
    {
     "name": "stdout",
     "output_type": "stream",
     "text": [
      "Enter Hours:45\n",
      "Enter rate per hour:10.5\n",
      "Pay 498.75\n"
     ]
    }
   ],
   "source": [
    "def computepay(h,r):\n",
    "    if h > 40:\n",
    "        p = 1.5 * r * (h - 40) + (40 *r)\n",
    "    else:\n",
    "        p = h * r\n",
    "    return p\n",
    "\n",
    "hrs = input(\"Enter Hours:\")\n",
    "hr = float(hrs)\n",
    "rphrs = input(\"Enter rate per hour:\")\n",
    "rphr = float(rphrs)\n",
    "\n",
    "p = computepay(hr,rphr)\n",
    "print('Pay',p)"
   ]
  },
  {
   "cell_type": "markdown",
   "metadata": {},
   "source": [
    "# Week 7 Slide 5"
   ]
  },
  {
   "cell_type": "code",
   "execution_count": 15,
   "metadata": {},
   "outputs": [
    {
     "name": "stdout",
     "output_type": "stream",
     "text": [
      ">Hello there\n",
      "Hello there\n",
      ">#don't do this\n",
      ">Print This\n",
      "Print This\n",
      ">done\n",
      "Done!\n"
     ]
    }
   ],
   "source": [
    "##Video 5.1 : Loops & Iteration\n",
    "\n",
    "##Repeated steps\n",
    "\n",
    "##n=5\n",
    "##while n>0:\n",
    "##    print(n)\n",
    "##    n=n-1\n",
    "##print('Blastoff')\n",
    "##print(n)\n",
    "\n",
    "##Infinite loops\n",
    "\n",
    "##n=5\n",
    "#while n>0:\n",
    "##    print('test1')\n",
    "##    print('test2')\n",
    "##print('complete')\n",
    "\n",
    "\n",
    "## Breaking infinite loop\n",
    "##while True:\n",
    " ##   line = input('>')\n",
    " ##   if line =='done':\n",
    " ##       break\n",
    "##    print(line)\n",
    "##print('done!')\n",
    "    \n",
    "\n",
    "##Finishing Iteration with continue\n",
    "while True:\n",
    "    line = input('>')\n",
    "    if line[0]=='#':\n",
    "        continue\n",
    "    if line =='done':\n",
    "        break\n",
    "    print(line)\n",
    "print('Done!')\n",
    "    \n"
   ]
  },
  {
   "cell_type": "markdown",
   "metadata": {},
   "source": [
    "# Video 5.2 Definite Loops"
   ]
  },
  {
   "cell_type": "code",
   "execution_count": 22,
   "metadata": {},
   "outputs": [
    {
     "name": "stdout",
     "output_type": "stream",
     "text": [
      "5\n",
      "4\n",
      "3\n",
      "2\n",
      "1\n"
     ]
    }
   ],
   "source": [
    "## A simple definite loops\n",
    "##for i in [5,4,3,2,1,0]:\n",
    "##    print(i)\n",
    "##print('blastoff!!')\n",
    "##print (i)\n",
    "\n",
    "\n",
    "## A Definite loops with string\n",
    "\n",
    "##friends = ['jhonny','Glenn','sally']\n",
    "##for friend in friends:\n",
    "##    print ('Happy New Year:',friend, 'you are so Great', friend)\n",
    "##print('Done!!')\n",
    "\n",
    "for i in [5,4,3,2,1]:\n",
    "    print (i)"
   ]
  },
  {
   "cell_type": "markdown",
   "metadata": {},
   "source": [
    "# Video 5.3 Finding the largest value"
   ]
  },
  {
   "cell_type": "code",
   "execution_count": 24,
   "metadata": {},
   "outputs": [
    {
     "name": "stdout",
     "output_type": "stream",
     "text": [
      "Before\n",
      "9\n",
      "41\n",
      "3\n",
      "12\n",
      "74\n",
      "15\n",
      "After\n"
     ]
    }
   ],
   "source": [
    "## Looping through a set\n",
    "\n",
    "print('Before')\n",
    "for thing in [9,41,3,12,74,15] :\n",
    "    print(thing)\n",
    "print('After')"
   ]
  },
  {
   "cell_type": "code",
   "execution_count": 25,
   "metadata": {},
   "outputs": [
    {
     "name": "stdout",
     "output_type": "stream",
     "text": [
      "Before -1\n",
      "9 9\n",
      "41 41\n",
      "41 12\n",
      "41 3\n",
      "74 74\n",
      "74 15\n",
      "After 74\n"
     ]
    }
   ],
   "source": [
    "##\n",
    "Largest_so_far = -1\n",
    "print('Before',Largest_so_far)\n",
    "for value in [9,41,12,3,74,15] :\n",
    "    if  value > Largest_so_far:\n",
    "        Largest_so_far = value\n",
    "    print(Largest_so_far, value)\n",
    "print('After', Largest_so_far)"
   ]
  },
  {
   "cell_type": "markdown",
   "metadata": {},
   "source": [
    "# Video 5.4 Loops Idioms"
   ]
  },
  {
   "cell_type": "code",
   "execution_count": 1,
   "metadata": {},
   "outputs": [
    {
     "name": "stdout",
     "output_type": "stream",
     "text": [
      "Before 0\n",
      "1 9\n",
      "2 41\n",
      "3 3\n",
      "4 12\n",
      "5 74\n",
      "6 15\n",
      "after 6\n"
     ]
    }
   ],
   "source": [
    "##Counting in a loop\n",
    "zork = 0\n",
    "print ('Before', zork)\n",
    "for thing in ['9','41','3','12','74','15']:\n",
    "    zork = zork +1\n",
    "    print(zork, thing)\n",
    "print('after', zork)"
   ]
  },
  {
   "cell_type": "code",
   "execution_count": 5,
   "metadata": {},
   "outputs": [
    {
     "name": "stdout",
     "output_type": "stream",
     "text": [
      "Before 0\n",
      "9 9\n",
      "50 41\n",
      "53 3\n",
      "65 12\n",
      "139 74\n",
      "154 15\n",
      "After 154\n"
     ]
    }
   ],
   "source": [
    "## Summing in a loop\n",
    "\n",
    "zork = 0\n",
    "print('Before', zork)\n",
    "for thing in [9,41,3,12,74,15]:\n",
    "    zork = zork + thing\n",
    "    print (zork, thing)\n",
    "print('After',zork)"
   ]
  },
  {
   "cell_type": "code",
   "execution_count": 7,
   "metadata": {},
   "outputs": [
    {
     "name": "stdout",
     "output_type": "stream",
     "text": [
      "Before 0 0\n",
      "1 9 9\n",
      "2 50 41\n",
      "3 53 3\n",
      "4 65 12\n",
      "5 139 74\n",
      "6 154 15\n",
      "After 6 154 25.666666666666668\n"
     ]
    }
   ],
   "source": [
    "##Finding the average in a loop\n",
    "\n",
    "count = 0\n",
    "sum = 0\n",
    "print('Before', count, sum)\n",
    "for value in [9,41,3,12,74,15]:\n",
    "    count = count +1\n",
    "    sum = value + sum\n",
    "    print(count, sum, value)\n",
    "print('After', count, sum, sum/count)\n",
    "    "
   ]
  },
  {
   "cell_type": "code",
   "execution_count": 23,
   "metadata": {},
   "outputs": [
    {
     "name": "stdout",
     "output_type": "stream",
     "text": [
      "Before\n",
      "large number 41\n",
      "large number 74\n",
      "after\n"
     ]
    }
   ],
   "source": [
    "##Filtering in a loop\n",
    "\n",
    "print('Before')\n",
    "for value in [9,41,12,3,74,15]:\n",
    "    if value >20 :\n",
    "        print ('large number',value)\n",
    "print('after')"
   ]
  },
  {
   "cell_type": "code",
   "execution_count": 11,
   "metadata": {},
   "outputs": [
    {
     "name": "stdout",
     "output_type": "stream",
     "text": [
      "Before False\n",
      "False 9\n",
      "False 41\n",
      "False 12\n",
      "True 3\n",
      "True 74\n",
      "True 15\n",
      "After True\n"
     ]
    }
   ],
   "source": [
    "##Search using Boolean variable\n",
    "\n",
    "found = False\n",
    "print('Before', found)\n",
    "for value in [9,41,12,3,74,15] :\n",
    "    if value == 3 :\n",
    "        found = True\n",
    "       ## break\n",
    "    print(found,value)\n",
    "print('After',found)"
   ]
  },
  {
   "cell_type": "code",
   "execution_count": 22,
   "metadata": {},
   "outputs": [
    {
     "name": "stdout",
     "output_type": "stream",
     "text": [
      "Before None\n",
      "9 9\n",
      "9 41\n",
      "9 12\n",
      "3 3\n",
      "3 74\n",
      "3 15\n",
      "After 3\n"
     ]
    }
   ],
   "source": [
    "## How to find the smallest value\n",
    "\n",
    "smallest = None\n",
    "print('Before',smallest)\n",
    "for value in [9,41,12,3,74,15] :\n",
    "    if  smallest is None:\n",
    "        smallest = value\n",
    "    elif smallest > value :\n",
    "        smallest = value\n",
    "    print(smallest,value)\n",
    "print('After', smallest)\n",
    "\n",
    "## the \"is\" and \"is not\" operators\n",
    "    # Python has an \"is\"operator that can be used in logical expression\n",
    "    #implies \"is the same as\"\n",
    "    #stronger than ==\n",
    "    #\"is not\"is also a logical operator\n"
   ]
  },
  {
   "cell_type": "markdown",
   "metadata": {},
   "source": [
    "# Assignment Chapter 5"
   ]
  },
  {
   "cell_type": "code",
   "execution_count": 37,
   "metadata": {},
   "outputs": [
    {
     "name": "stdout",
     "output_type": "stream",
     "text": [
      "Enter a number : 4\n",
      "Enter a number : 5\n",
      "Enter a number : 6\n",
      "Enter a number : dklm\n",
      "Invalid Input\n",
      "Enter a number : 4\n",
      "Enter a number : 5\n",
      "Enter a number : 6\n",
      "Enter a number : done\n",
      "30.0 6 5.0\n"
     ]
    }
   ],
   "source": [
    "num = 0\n",
    "tot = 0.0\n",
    "while True :\n",
    "    sval = input ('Enter a number : ')\n",
    "    if sval =='done' :\n",
    "        break\n",
    "    try :\n",
    "        fval = float(sval)\n",
    "    except :\n",
    "        print('Invalid Input')\n",
    "        continue\n",
    "    ##print(fval)\n",
    "    num = num+1\n",
    "    tot = tot+fval\n",
    "    \n",
    "##print('ALL DOne')\n",
    "print(tot,num,tot/num)"
   ]
  },
  {
   "cell_type": "code",
   "execution_count": 49,
   "metadata": {},
   "outputs": [
    {
     "name": "stdout",
     "output_type": "stream",
     "text": [
      "Enter a number: 7\n",
      "Enter a number: 2\n",
      "Enter a number: bob\n",
      "Invalid Input\n",
      "Enter a number: 10\n",
      "Enter a number: 2\n",
      "Enter a number: done\n"
     ]
    }
   ],
   "source": [
    "## Graded External Tools\n",
    "\n",
    "largest = None\n",
    "smallest = None\n",
    "while True:\n",
    "    num = input(\"Enter a number: \")\n",
    "    if num == \"done\":\n",
    "        break\n",
    "    try :\n",
    "        fval = float(num)\n",
    "    except:\n",
    "        print('Invalid Input')\n",
    "        continue\n",
    "    if smallest is None :\n",
    "        smallest = fval\n",
    "    if smallest > fval :\n",
    "        largest = fval\n",
    "    elif fval < smallest :\n",
    "        smallest = fval\n",
    "        \n",
    "def done(largest,smallest):\n",
    "    print (\"Maximum is\", int(largest))  \n",
    "    print (\"Minimum is\", int(smallest))\n",
    "\n",
    "##done(largest,smallest)\n",
    "##    print(num)\n",
    "\n",
    "#print(\"Maximum\", largest)"
   ]
  },
  {
   "cell_type": "code",
   "execution_count": 50,
   "metadata": {},
   "outputs": [
    {
     "name": "stdout",
     "output_type": "stream",
     "text": [
      "Enter a number: 7\n",
      "Enter a number: 2\n",
      "Enter a number: bob\n",
      "Invalid input\n",
      "Enter a number: 10\n",
      "Enter a number: 2\n",
      "Enter a number: done\n",
      "Maximum is 10\n",
      "Minimum is 2\n"
     ]
    }
   ],
   "source": [
    "num = 0\n",
    "largest = -1\n",
    "smallest = None\n",
    "while True:\n",
    "    num = input(\"Enter a number: \")\n",
    "    if num == \"done\" :\n",
    "        break\n",
    "    try :\n",
    "        numb = int(num)\n",
    "    except :\n",
    "        print('Invalid input')\n",
    "    if smallest is None :\n",
    "        smallest = numb\n",
    "    elif numb < smallest :\n",
    "        smallest = numb\n",
    "    elif numb > largest :\n",
    "        largest = numb\n",
    "print(\"Maximum is\", largest)\n",
    "print(\"Minimum is\", smallest)"
   ]
  },
  {
   "cell_type": "code",
   "execution_count": null,
   "metadata": {},
   "outputs": [],
   "source": []
  }
 ],
 "metadata": {
  "kernelspec": {
   "display_name": "Python 3",
   "language": "python",
   "name": "python3"
  },
  "language_info": {
   "codemirror_mode": {
    "name": "ipython",
    "version": 3
   },
   "file_extension": ".py",
   "mimetype": "text/x-python",
   "name": "python",
   "nbconvert_exporter": "python",
   "pygments_lexer": "ipython3",
   "version": "3.7.0"
  }
 },
 "nbformat": 4,
 "nbformat_minor": 4
}
